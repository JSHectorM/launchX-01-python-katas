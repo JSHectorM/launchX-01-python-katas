{
  "cells": [
    {
      "cell_type": "markdown",
      "metadata": {},
      "source": [
        "# Ejercicio: Uso de funciones en Python"
      ]
    },
    {
      "cell_type": "markdown",
      "metadata": {},
      "source": [
        "### Ejercicio 1: Trabajar con argumentos en funciones\n",
        "\n",
        "Los argumentos requeridos en las funciones se utilizan cuando las funciones necesitan que esos argumentos funcionen correctamente. En este ejercicio, construirás un informe de combustible que requiere información de varias ubicaciones de combustible en todo el cohete.\n",
        "\n"
      ]
    },
    {
      "cell_type": "markdown",
      "metadata": {},
      "source": [
        "> **TIP**\n",
        "> Dedica unos minutos para tratar de encontrar una solución. Luego desplázate hacia abajo hasta la parte inferior para ver si has logrado compilar el programa de acuerdo con las especificaciones\n",
        "\n",
        "Comienza por crear una función que necesite tres lecturas de combustible y devuelva un informe:"
      ]
    },
    {
      "cell_type": "code",
      "execution_count": 8,
      "metadata": {},
      "outputs": [],
      "source": [
        "# Función para leer 3 tanques de combustible y muestre el promedio\n",
        "def informe_tanques ( tanqueA, tanqueB, tanqueC ):\n",
        "    return (f'''\n",
        "                 ... Reporte ...\n",
        "                 Tanque A: {tanqueA}%\n",
        "                 Tanque B: {tanqueB}%\n",
        "                 Tanque C: {tanqueC}%\n",
        "                 Total : {(tanqueA + tanqueB + tanqueC)/3}\n",
        "                 ''')"
      ]
    },
    {
      "cell_type": "markdown",
      "metadata": {},
      "source": [
        "Ahora que hemos definido la función de informes, vamos a comprobarlo. Para esta misión, los tanques no están llenos:"
      ]
    },
    {
      "cell_type": "code",
      "execution_count": 9,
      "metadata": {},
      "outputs": [
        {
          "name": "stdout",
          "output_type": "stream",
          "text": [
            "\n",
            "                 ... Reporte ...\n",
            "                 Tanque A: 10%\n",
            "                 Tanque B: 20%\n",
            "                 Tanque C: 30%\n",
            "                 Total : 20.0\n",
            "                 \n"
          ]
        }
      ],
      "source": [
        "\n",
        "# Llamamos a la función que genera el reporte print(funcion(tanque1, tanque2, tanque3))\n",
        "print(informe_tanques( 10,20,30 ))"
      ]
    },
    {
      "cell_type": "markdown",
      "metadata": {},
      "source": [
        "En lugar de simplemente crear el informe, la función también está calculando el promedio. Mejora la legibilidad extrayendo el cálculo promedio de la función en una nueva función para que el promedio se pueda hacer de forma independiente:"
      ]
    },
    {
      "cell_type": "code",
      "execution_count": 12,
      "metadata": {},
      "outputs": [
        {
          "name": "stdout",
          "output_type": "stream",
          "text": [
            "20.0\n"
          ]
        }
      ],
      "source": [
        "# Función promedio \n",
        "def promedio ( arrTanques ):\n",
        "    return (sum(arrTanques))/len(arrTanques)\n",
        "\n",
        "print( promedio( [10,20,30] )  )"
      ]
    },
    {
      "cell_type": "markdown",
      "metadata": {},
      "source": [
        "Ahora actualiza la función de informes para llamando a la nueva función del promedio:\n"
      ]
    },
    {
      "cell_type": "code",
      "execution_count": 13,
      "metadata": {},
      "outputs": [
        {
          "name": "stdout",
          "output_type": "stream",
          "text": [
            "\n",
            "                 ... Reporte ...\n",
            "                 Tanque A: 10%\n",
            "                 Tanque B: 20%\n",
            "                 Tanque C: 30%\n",
            "                 Total : 20.0\n",
            "                 \n"
          ]
        }
      ],
      "source": [
        "# Actualiza la función\n",
        "def informe_tanques ( tanqueA, tanqueB, tanqueC ):\n",
        "    return (f'''\n",
        "                 ... Reporte ...\n",
        "                 Tanque A: {tanqueA}%\n",
        "                 Tanque B: {tanqueB}%\n",
        "                 Tanque C: {tanqueC}%\n",
        "                 Total : { promedio([tanqueA , tanqueB , tanqueC])}\n",
        "                 ''')\n",
        "\n",
        "print(informe_tanques( 10,20,30 ))"
      ]
    },
    {
      "cell_type": "markdown",
      "metadata": {},
      "source": [
        "> Recuerda: Lo importante es intentarlo, puedes auxiliarte de internet, libros, etc. El objetivo de una kata es la comprobación de la comprensión de la lección y su aplicación inmediata a la resolución de problemas. Go for it!"
      ]
    },
    {
      "cell_type": "markdown",
      "metadata": {},
      "source": [
        "## Ejercicio 2: Trabajo con argumentos de palabra clave"
      ]
    },
    {
      "cell_type": "markdown",
      "metadata": {},
      "source": [
        "### Ejercicio : Trabajar con argumentos de palabras clave en funciones\n",
        "En este ejercicio, construirás un informe de cohete que requiere varias piezas de información, como el tiempo hasta el destino, el combustible a la izquierda y el nombre del destino. Comienza por crear una función que creará un informe preciso de la misión:"
      ]
    },
    {
      "cell_type": "code",
      "execution_count": 15,
      "metadata": {},
      "outputs": [
        {
          "name": "stdout",
          "output_type": "stream",
          "text": [
            "\n",
            "            Mision a: Luna\n",
            "            tiempo de la mision: 65 minutos\n",
            "            Totla de gasolina: 500000 litros\n",
            "            \n"
          ]
        }
      ],
      "source": [
        "# Función con un informe preciso de la misión. Considera hora de prelanzamiento, tiempo de vuelo, destino, tanque externo y tanque interno\n",
        "def reporte_mision( hora_prelanzamiento, tiempo_vuelo, destino, tanque_externo, tanque_interno ):\n",
        "    return f'''\n",
        "            Mision a: {destino}\n",
        "            tiempo de la mision: { tiempo_vuelo + hora_prelanzamiento } minutos\n",
        "            Totla de gasolina: { tanque_externo + tanque_interno } litros\n",
        "            '''\n",
        "\n",
        "print(reporte_mision(14, 51, \"Luna\", 200000, 300000))"
      ]
    },
    {
      "cell_type": "markdown",
      "metadata": {},
      "source": [
        "La función es problemática porque no se puede adaptar para minutos adicionales o tanques adicionales de combustible. Hazlo más flexible permitiendo cualquier número de pasos basados en el tiempo y cualquier número de tanques. En lugar de usar `*args` y `**kwargs`, aprovecha el hecho de que puedes usar cualquier nombre que desees. Asegurate que la función sea más legible mediante el uso de nombres de variables que están asociados con las entradas, como `*minutes` y `**fuel_reservoirs`:"
      ]
    },
    {
      "cell_type": "code",
      "execution_count": 19,
      "metadata": {},
      "outputs": [
        {
          "name": "stdout",
          "output_type": "stream",
          "text": [
            "\n",
            "            Mision a: Moon\n",
            "            tiempo de la mision: 76 minutos\n",
            "            Totla de gasolina: 500000 litros\n",
            "            \n"
          ]
        }
      ],
      "source": [
        "# Escribe tu nueva función de reporte considerando lo anterior\n",
        "def reporte_mision2( destino, *minutos, **tanques ):\n",
        "    return f'''\n",
        "            Mision a: {destino}\n",
        "            tiempo de la mision: { sum(minutos) } minutos\n",
        "            Totla de gasolina: { sum(tanques.values()) } litros\n",
        "            '''\n",
        "\n",
        "print(reporte_mision2(\"Moon\", 10, 15, 51, principal = 300000, externo=200000))"
      ]
    },
    {
      "cell_type": "markdown",
      "metadata": {},
      "source": [
        "Debido a que el combustible que queda en los tanques es específico de cada tanque, actualiza la función para usar el nombre de cada tanque en el informe:"
      ]
    },
    {
      "cell_type": "code",
      "execution_count": 27,
      "metadata": {},
      "outputs": [
        {
          "name": "stdout",
          "output_type": "stream",
          "text": [
            "\n",
            "            Mision a: Moon\n",
            "            tiempo de la mision: 76 minutos\n",
            "            Totla de gasolina: 500000 litros\n",
            "            \n",
            "            principal contiene 300000 litros\n",
            "            externo contiene 200000 litros\n"
          ]
        }
      ],
      "source": [
        "# Escribe tu nueva función\n",
        "def reporte_mision2( destino, *minutos, **tanques ):\n",
        "    mensaje = f'''\n",
        "            Mision a: {destino}\n",
        "            tiempo de la mision: { sum(minutos) } minutos\n",
        "            Totla de gasolina: { sum(tanques.values()) } litros\n",
        "            '''\n",
        "    for item_tanque, litros in tanques.items():\n",
        "        mensaje += f'''\n",
        "            {item_tanque} contiene {litros} litros'''\n",
        "    return mensaje\n",
        "\n",
        "print(reporte_mision2(\"Moon\", 10, 15, 51, principal = 300000, externo=200000))"
      ]
    }
  ],
  "metadata": {
    "interpreter": {
      "hash": "205095b8b86ea82a021a8fc2ffba2b3bc9f8d0be25999901963b225939f75778"
    },
    "kernelspec": {
      "display_name": "Python 3.8.10 64-bit ('tmp': conda)",
      "name": "python3"
    },
    "language_info": {
      "codemirror_mode": {
        "name": "ipython",
        "version": 3
      },
      "file_extension": ".py",
      "mimetype": "text/x-python",
      "name": "python",
      "nbconvert_exporter": "python",
      "pygments_lexer": "ipython3",
      "version": "3.9.5"
    },
    "nteract": {
      "version": "nteract-front-end@1.0.0"
    },
    "orig_nbformat": 4
  },
  "nbformat": 4,
  "nbformat_minor": 2
}
