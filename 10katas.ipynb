{
  "cells": [
    {
      "cell_type": "code",
      "execution_count": 3,
      "metadata": {},
      "outputs": [
        {
          "name": "stdout",
          "output_type": "stream",
          "text": [
            "No se encontro el archivo en la ruta seleccionada\n"
          ]
        }
      ],
      "source": [
        "def main():\n",
        "    try:\n",
        "        open(\"mars.jpg\")\n",
        "    except FileNotFoundError:\n",
        "        print('No se encontro el archivo en la ruta seleccionada.')\n",
        "\n",
        "if __name__ == '__main__':\n",
        "    main()"
      ]
    },
    {
      "cell_type": "code",
      "execution_count": 6,
      "metadata": {},
      "outputs": [
        {
          "name": "stdout",
          "output_type": "stream",
          "text": [
            "No se encontro el archivo en la ruta indicada\n"
          ]
        }
      ],
      "source": [
        "def main():\n",
        "    try:\n",
        "        archivo = open('archivo.txt')\n",
        "    except FileNotFoundError:\n",
        "        print(\"No se encontro el archivo en la ruta indicada\")\n",
        "    except IsADirectoryError:\n",
        "        print(\"No se pudo leer el archivo!\")\n",
        "    except (BlockingIOError, TimeoutError):\n",
        "        print(\"El tiempon de espera se excedio\")\n",
        "\n",
        "if __name__ == '__main__':\n",
        "    main()"
      ]
    }
  ],
  "metadata": {
    "interpreter": {
      "hash": "205095b8b86ea82a021a8fc2ffba2b3bc9f8d0be25999901963b225939f75778"
    },
    "kernelspec": {
      "display_name": "Python 3.8.10 64-bit ('tmp': conda)",
      "name": "python3"
    },
    "language_info": {
      "codemirror_mode": {
        "name": "ipython",
        "version": 3
      },
      "file_extension": ".py",
      "mimetype": "text/x-python",
      "name": "python",
      "nbconvert_exporter": "python",
      "pygments_lexer": "ipython3",
      "version": "3.9.5"
    },
    "nteract": {
      "version": "nteract-front-end@1.0.0"
    },
    "orig_nbformat": 4
  },
  "nbformat": 4,
  "nbformat_minor": 2
}
